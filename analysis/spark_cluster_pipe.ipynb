{
 "cells": [
  {
   "cell_type": "code",
   "execution_count": 83,
   "metadata": {},
   "outputs": [
    {
     "ename": "ImportError",
     "evalue": "cannot import name 'YeoJohnsonTransformer' from 'pyspark.ml.feature' (C:\\Spark3\\python\\pyspark\\ml\\feature.py)",
     "output_type": "error",
     "traceback": [
      "\u001b[1;31m---------------------------------------------------------------------------\u001b[0m",
      "\u001b[1;31mImportError\u001b[0m                               Traceback (most recent call last)",
      "Cell \u001b[1;32mIn[83], line 9\u001b[0m\n\u001b[0;32m      7\u001b[0m \u001b[39mfrom\u001b[39;00m \u001b[39mpyspark\u001b[39;00m\u001b[39m.\u001b[39;00m\u001b[39msql\u001b[39;00m \u001b[39mimport\u001b[39;00m SparkSession\n\u001b[0;32m      8\u001b[0m \u001b[39mfrom\u001b[39;00m \u001b[39mpyspark\u001b[39;00m\u001b[39m.\u001b[39;00m\u001b[39mml\u001b[39;00m\u001b[39m.\u001b[39;00m\u001b[39mclustering\u001b[39;00m \u001b[39mimport\u001b[39;00m KMeans\n\u001b[1;32m----> 9\u001b[0m \u001b[39mfrom\u001b[39;00m \u001b[39mpyspark\u001b[39;00m\u001b[39m.\u001b[39;00m\u001b[39mml\u001b[39;00m\u001b[39m.\u001b[39;00m\u001b[39mfeature\u001b[39;00m \u001b[39mimport\u001b[39;00m VectorAssembler, OneHotEncoder, StringIndexer, StandardScaler, Imputer, YeoJohnsonTransformer\n\u001b[0;32m     10\u001b[0m \u001b[39mfrom\u001b[39;00m \u001b[39mpyspark\u001b[39;00m\u001b[39m.\u001b[39;00m\u001b[39mml\u001b[39;00m\u001b[39m.\u001b[39;00m\u001b[39mevaluation\u001b[39;00m \u001b[39mimport\u001b[39;00m ClusteringEvaluator\n\u001b[0;32m     11\u001b[0m \u001b[39mfrom\u001b[39;00m \u001b[39mpyspark\u001b[39;00m\u001b[39m.\u001b[39;00m\u001b[39mml\u001b[39;00m \u001b[39mimport\u001b[39;00m Pipeline\n",
      "\u001b[1;31mImportError\u001b[0m: cannot import name 'YeoJohnsonTransformer' from 'pyspark.ml.feature' (C:\\Spark3\\python\\pyspark\\ml\\feature.py)"
     ]
    }
   ],
   "source": [
    "import seaborn as sns\n",
    "import matplotlib.pyplot as plt\n",
    "\n",
    "import findspark\n",
    "findspark.init()\n",
    "from pyspark.sql.functions import isnull, col\n",
    "from pyspark.sql import SparkSession\n",
    "from pyspark.ml.clustering import KMeans\n",
    "from pyspark.ml.feature import VectorAssembler, OneHotEncoder, StringIndexer, StandardScaler, Imputer, YeoJohnsonTransformer\n",
    "from pyspark.ml.evaluation import ClusteringEvaluator\n",
    "from pyspark.ml import Pipeline\n",
    "from pyspark.sql.types import *\n",
    "from pyspark.sql.functions import udf"
   ]
  },
  {
   "cell_type": "code",
   "execution_count": 3,
   "metadata": {},
   "outputs": [],
   "source": [
    "spark = SparkSession.builder.master('local') \\\n",
    "    .appName(\"ZMClustering\") \\\n",
    "    .config(\"spark.driver.cores\", \"2\") \\\n",
    "    .config(\"spark.executor.cores\", \"2\") \\\n",
    "    .config(\"spark.driver.memory\", \"6g\") \\\n",
    "    .config(\"spark.executor.memory\", \"6g\") \\\n",
    "    .getOrCreate()\n",
    "sc = spark.sparkContext"
   ]
  },
  {
   "cell_type": "code",
   "execution_count": 6,
   "metadata": {},
   "outputs": [],
   "source": [
    "data = (spark.read\n",
    "        .csv(\"C:\\Repositories\\MineralogicData_Clustering\\data\\centroid_PINiCo2.csv\", header=True, inferSchema=True)\n",
    "        .repartition('sample')\n",
    ")\n",
    "\n",
    "data = (\n",
    "    data\n",
    " .withColumnRenamed('Particle ID', 'particleID')\n",
    " .withColumnRenamed('Grain ID', 'grainID')\n",
    " .withColumnRenamed('Mineral Classification', 'mineral')\n",
    " .withColumnRenamed('Spectrum Counts', 'spectrum_cts')\n",
    " .withColumnRenamed('Area µm²', 'area_um2')\n",
    " .drop('_c0')\n",
    ")"
   ]
  },
  {
   "cell_type": "code",
   "execution_count": null,
   "metadata": {},
   "outputs": [],
   "source": [
    "# data.write.mode('overwrite').format(\"csv\").save(\"C:\\Repositories\\MineralogicData_Clustering\\data\\parquet\") #not working\n"
   ]
  },
  {
   "cell_type": "code",
   "execution_count": 28,
   "metadata": {},
   "outputs": [
    {
     "name": "stdout",
     "output_type": "stream",
     "text": [
      "+-----+----------+------+-------+-------+------------+--------+---------+--------+-----+-----+---+---+---+-----+---+---+---+---+---+----+---+---+---+---+---+---+---+---+\n",
      "|index|particleID|sample|grainID|mineral|spectrum_cts|Porosity|Roughness|area_um2|   Ti|    O|  C| Fe| Al|   Si| Ni| Mn| Co| Mg|  S|   V| Sc| Cu| Cr| Ca| Ba| Na|  K| Zn|\n",
      "+-----+----------+------+-------+-------+------------+--------+---------+--------+-----+-----+---+---+---+-----+---+---+---+---+---+----+---+---+---+---+---+---+---+---+\n",
      "|    0|   1594685| 53x45|1594685|Anatase|        3277|    5.08|     1.79|  3310.1|62.01|37.24|0.0|0.0|0.0|  0.0|0.0|0.0|0.0|0.0|0.0|0.74|0.0|0.0|0.0|0.0|0.0|0.0|0.0|0.0|\n",
      "|    1|   1594697| 53x45|1594697|Anatase|        3297|     0.0|     1.04|     0.8|42.08| 45.7|0.0|0.0|0.0|11.65|0.0|0.0|0.0|0.0|0.0|0.57|0.0|0.0|0.0|0.0|0.0|0.0|0.0|0.0|\n",
      "|    2|   1594698| 53x45|1594698|Anatase|        3491|     0.0|     1.15|   10.37|42.68|50.13|0.0|0.0|0.0| 7.19|0.0|0.0|0.0|0.0|0.0| 0.0|0.0|0.0|0.0|0.0|0.0|0.0|0.0|0.0|\n",
      "|    3|   1594841| 53x45|1594841|Anatase|        3299|    0.11|     1.08| 1580.85|61.82|38.18|0.0|0.0|0.0|  0.0|0.0|0.0|0.0|0.0|0.0| 0.0|0.0|0.0|0.0|0.0|0.0|0.0|0.0|0.0|\n",
      "|    4|   1599354| 53x45|1599354|Anatase|        3124|     0.0|     1.27|  160.76|52.99|43.33|0.0|1.2|0.0| 1.49|0.0|0.0|0.0|0.0|0.0| 1.0|0.0|0.0|0.0|0.0|0.0|0.0|0.0|0.0|\n",
      "+-----+----------+------+-------+-------+------------+--------+---------+--------+-----+-----+---+---+---+-----+---+---+---+---+---+----+---+---+---+---+---+---+---+---+\n",
      "only showing top 5 rows\n",
      "\n"
     ]
    }
   ],
   "source": [
    "data.show(5)"
   ]
  },
  {
   "cell_type": "code",
   "execution_count": 8,
   "metadata": {},
   "outputs": [],
   "source": [
    "features = ['Ti', 'O', 'C', 'Fe', 'Al', 'Si', 'Ni', 'Mn', 'Co', 'Mg', \n",
    "            'S', 'V', 'Sc', 'Cu', 'Cr', 'Ca', 'Ba', 'Na', 'K', 'Zn']"
   ]
  },
  {
   "cell_type": "code",
   "execution_count": 82,
   "metadata": {},
   "outputs": [
    {
     "name": "stdout",
     "output_type": "stream",
     "text": [
      "[62.01 37.24  0.    0.    0.    0.    0.    0.    0.    0.    0.    0.74\n",
      "  0.    0.    0.    0.    0.    0.    0.    0.  ]\n"
     ]
    }
   ],
   "source": [
    "print(data_scaled.select('features_unscaled').take(1)[0].features_unscaled.toArray())"
   ]
  },
  {
   "cell_type": "code",
   "execution_count": null,
   "metadata": {},
   "outputs": [],
   "source": [
    "# def centred_log_ratio(data, inputCol, outputCol):\n",
    "#     for i in [0,1,2,3,4]:\n",
    "#         data.select(inputCol)[i]\n",
    "\n",
    "#     return data\n",
    "\n",
    "# centred_log_ratio(data_scaled, inputCol='features_unscaled')"
   ]
  },
  {
   "cell_type": "code",
   "execution_count": 23,
   "metadata": {},
   "outputs": [],
   "source": [
    "vector = VectorAssembler(inputCols=features, outputCol='features_unscaled')\n",
    "CLR = udf(lambda data: centred_log_ratio(data, inputCols='features_unscaled', outputCol='features_unscaled'), returnType=DoubleType())\n",
    "# imputer = Imputer(inputCols = ['features_unscaled'], outputCols=['features_unscaled'], strategy=0)\n",
    "yeo = YeoJohnsonTransformer(inputCol=\"features\", outputCol=\"transformed_features\")\n",
    "scaler = StandardScaler(inputCol = \"features_unscaled\", outputCol = \"features_scaled\")\n",
    "\n",
    "pipeline = Pipeline(stages = [\n",
    "    vector, scaler\n",
    "])\n",
    "\n",
    "data_scaled = pipeline.fit(data).transform(data)"
   ]
  },
  {
   "cell_type": "code",
   "execution_count": 29,
   "metadata": {},
   "outputs": [
    {
     "name": "stdout",
     "output_type": "stream",
     "text": [
      "+-----+----------+------+-------+-------+------------+--------+---------+--------+-----+-----+---+---+---+-----+---+---+---+---+---+----+---+---+---+---+---+---+---+---+--------------------------------------------+-----------------------------------------------------------------------------------------------------------------+\n",
      "|index|particleID|sample|grainID|mineral|spectrum_cts|Porosity|Roughness|area_um2|Ti   |O    |C  |Fe |Al |Si   |Ni |Mn |Co |Mg |S  |V   |Sc |Cu |Cr |Ca |Ba |Na |K  |Zn |features_unscaled                           |features_scaled                                                                                                  |\n",
      "+-----+----------+------+-------+-------+------------+--------+---------+--------+-----+-----+---+---+---+-----+---+---+---+---+---+----+---+---+---+---+---+---+---+---+--------------------------------------------+-----------------------------------------------------------------------------------------------------------------+\n",
      "|0    |1594685   |53x45 |1594685|Anatase|3277        |5.08    |1.79     |3310.1  |62.01|37.24|0.0|0.0|0.0|0.0  |0.0|0.0|0.0|0.0|0.0|0.74|0.0|0.0|0.0|0.0|0.0|0.0|0.0|0.0|(20,[0,1,11],[62.01,37.24,0.74])            |(20,[0,1,11],[37.3761235338089,4.698587295913704,5.217206442560044])                                             |\n",
      "|1    |1594697   |53x45 |1594697|Anatase|3297        |0.0     |1.04     |0.8     |42.08|45.7 |0.0|0.0|0.0|11.65|0.0|0.0|0.0|0.0|0.0|0.57|0.0|0.0|0.0|0.0|0.0|0.0|0.0|0.0|(20,[0,1,5,11],[42.08,45.7,11.65,0.57])     |(20,[0,1,5,11],[25.363445868451517,5.765989243374229,1.0835555525326848,4.01865901656652])                       |\n",
      "|2    |1594698   |53x45 |1594698|Anatase|3491        |0.0     |1.15     |10.37   |42.68|50.13|0.0|0.0|0.0|7.19 |0.0|0.0|0.0|0.0|0.0|0.0 |0.0|0.0|0.0|0.0|0.0|0.0|0.0|0.0|(20,[0,1,5],[42.68,50.13,7.19])             |(20,[0,1,5],[25.72509195973172,6.324924305696939,0.6687351435802579])                                            |\n",
      "|3    |1594841   |53x45 |1594841|Anatase|3299        |0.11    |1.08     |1580.85 |61.82|38.18|0.0|0.0|0.0|0.0  |0.0|0.0|0.0|0.0|0.0|0.0 |0.0|0.0|0.0|0.0|0.0|0.0|0.0|0.0|(20,[0,1],[61.82,38.18])                    |(20,[0,1],[37.26160227157017,4.817187512298207])                                                                 |\n",
      "|4    |1599354   |53x45 |1599354|Anatase|3124        |0.0     |1.27     |160.76  |52.99|43.33|0.0|1.2|0.0|1.49 |0.0|0.0|0.0|0.0|0.0|1.0 |0.0|0.0|0.0|0.0|0.0|0.0|0.0|0.0|(20,[0,1,3,5,11],[52.99,43.33,1.2,1.49,1.0])|(20,[0,1,3,5,11],[31.93937729489653,5.466965293553727,0.06227835264448955,0.13858349985181978,7.050278976432492])|\n",
      "+-----+----------+------+-------+-------+------------+--------+---------+--------+-----+-----+---+---+---+-----+---+---+---+---+---+----+---+---+---+---+---+---+---+---+--------------------------------------------+-----------------------------------------------------------------------------------------------------------------+\n",
      "only showing top 5 rows\n",
      "\n"
     ]
    }
   ],
   "source": [
    "data_scaled.show(5, truncate = False)"
   ]
  }
 ],
 "metadata": {
  "kernelspec": {
   "display_name": "base",
   "language": "python",
   "name": "python3"
  },
  "language_info": {
   "codemirror_mode": {
    "name": "ipython",
    "version": 3
   },
   "file_extension": ".py",
   "mimetype": "text/x-python",
   "name": "python",
   "nbconvert_exporter": "python",
   "pygments_lexer": "ipython3",
   "version": "3.9.12"
  },
  "orig_nbformat": 4,
  "vscode": {
   "interpreter": {
    "hash": "d674aba619e9128d5d95f68874c090de0e48b8e67c1ba838c5d294b8a6cf0663"
   }
  }
 },
 "nbformat": 4,
 "nbformat_minor": 2
}
